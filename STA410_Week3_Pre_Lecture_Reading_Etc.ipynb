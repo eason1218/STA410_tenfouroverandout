{
 "cells": [
  {
   "cell_type": "markdown",
   "id": "2f789e59",
   "metadata": {},
   "source": [
    "# Prereading\n",
    "\n",
    "Familiarize yourself with the following.\n"
   ]
  },
  {
   "cell_type": "markdown",
   "id": "f6e316d5",
   "metadata": {},
   "source": [
    "## Antithetic Sampling\n",
    "\n",
    "Suppose estimator $\\hat \\theta_1$ and $\\hat \\theta_2$ have $E[\\hat \\theta_1] = E[\\hat \\theta_2] = \\theta$ and correlation $\\rho = \\frac{Cov(\\hat \\theta_1, \\hat \\theta_2)}{\\sigma_{\\hat \\theta_1}\\sigma_{\\hat \\theta_2}}$. \n",
    "\n",
    "If (for simplicity of demonstration) $\\sigma_{\\hat \\theta_1}^2=\\sigma_{\\hat \\theta_2}^2=\\frac{\\sigma^2}{n}$ then \n",
    "\n",
    "$$\n",
    "\\begin{align*}\n",
    "\\text{Var}\\left(\\frac{\\hat \\theta_1+\\hat \\theta_2}{2}\\right) = {} & \\frac{\\text{Var}(\\hat \\theta_1)+\\text{Var}(\\hat \\theta_2)}{4} + \\frac{2\\text{Cov}(\\hat \\theta_1, \\hat \\theta_2)}{4} \\\\\n",
    "= {} & \\frac{\\sigma^2}{2n} + \\frac{\\frac{\\sigma}{\\sqrt{n}}\\frac{\\sigma}{\\sqrt{n}}\\rho}{2} = \\frac{(1+\\rho)\\sigma^2}{2n}\n",
    "\\end{align*}$$\n",
    "\n",
    "If $\\rho<0$ then \n",
    "$\\text{Var}\\left(\\frac{\\hat \\theta_1+\\hat \\theta_2}{2}\\right) = \\frac{(1+\\rho)\\sigma^2}{2n}$\n",
    "is less than $\\text{Var}(\\hat \\theta_1)$ and $\\text{Var}(\\hat \\theta_2)$.\n",
    "\n"
   ]
  },
  {
   "cell_type": "markdown",
   "id": "96601d31",
   "metadata": {},
   "source": [
    "Achieving $\\rho<0$ (and potentially a substantially lower estimation variance) can in fact be easy... \n",
    "\n",
    "For example, if $\\hat \\theta_k = g(\\mathbf{x})$ is a function of $x_i$ such that $\\rho_{\\hat \\theta_k,x_i} > 0$\n",
    "\n",
    "- $\\rho_{\\hat \\theta_1,\\hat \\theta_2} < 0 \\text{ if } x_{i}' = -x_{i} \\text{ for } x_{i}\\sim N(\\mu, \\sigma^2_x)$\n",
    "- $\\rho_{\\hat \\theta_1,\\hat \\theta_2} < 0 \\text{ if } x_{i}' = -x_{i} \\text{ for } x_{i}\\sim U(0,1)$\n",
    "- $\\rho_{\\hat \\theta_1,\\hat \\theta_2} < 0 \\text{ if } x_{i}' = F_X^{-1}(1-F_X(x_{i})) \\text{ for } x_{i}\\sim f(X)$\n"
   ]
  },
  {
   "cell_type": "code",
   "execution_count": null,
   "id": "c1f15995",
   "metadata": {},
   "outputs": [],
   "source": [
    "# code to be added later today Jan 19 -- last minute finalizations ongoing"
   ]
  },
  {
   "cell_type": "markdown",
   "id": "a9721939",
   "metadata": {},
   "source": [
    "# Lecture\n",
    "\n",
    "First hour of class"
   ]
  },
  {
   "cell_type": "markdown",
   "id": "1596cc96",
   "metadata": {},
   "source": [
    "## Bagging \n",
    "\n",
    "**Antithetic sampling** is somewhat similar to **Bagging** in ***Random Forests*** where for $k=1,\\cdots, K$ tree-based precictions $\\hat t_k$ have in expectation the same common variance $\\sigma^2_{t}$ and shared correlation $\\rho = \\frac{Cov(t_k,t_{k'})}{\\sigma^2_{t}} > 0$. Then a generalization of\n",
    "$\\text{Var}\\left(\\frac{\\hat t_1+\\hat t_2}{2}\\right) = \\frac{\\text{Var}(\\hat t_1)+\\text{Var}(\\hat t_2)}{4} + \\frac{2\\text{Cov}(\\hat t_1+\\hat t_2)}{4}$ to $K$ rather than $2$\n",
    "\n",
    "$$\n",
    "Var(\\bar t) = \\underbrace{\\frac{1}{K^2} \\sum_{k=1}^K \\sigma^2_t}_{\\textrm{sum of variances}} + \\underbrace{\\frac{2}{K^2} \\sum_{k,k'} \\sigma_t^2 \\rho}_{\\textrm{sum of covariances}} = \\frac{\\sigma^2}{K} + \\frac{\\frac{2}{2}(K^2-K)\\sigma_t^2\\rho}{K^2}\n",
    " = \\rho \\sigma^2 + \\frac{(1-\\rho)\\sigma^2}{K}\n",
    "$$\n",
    "\n",
    "which means there are benefits to had from averaging even positively correlated estimators."
   ]
  },
  {
   "cell_type": "markdown",
   "id": "96d19cb2",
   "metadata": {},
   "source": [
    "## Control Variates\n",
    "\n",
    "$\n",
    "\\large\n",
    "\\begin{align*}\n",
    "[\\hat \\theta + \\beta (\\hat \\lambda - \\lambda)]\\\\\n",
    "Var[\\hat \\theta + \\beta (\\hat \\lambda - \\lambda)] &={}\n",
    "Var[\\hat \\theta] + \\beta^2Var[\\hat \\lambda] + 2\\beta Cov(\\hat \\theta, \\hat \\lambda)\\\\\n",
    "& \\frac{d}{d\\beta}{}\n",
    "Var[\\hat \\theta] + \\beta^2 Var[\\hat \\lambda] + 2 \\beta Cov(\\hat \\theta, \\hat \\lambda) \\;\\; = \\;\\; 0 \\\\\n",
    "&={} 2\\beta Var[\\hat \\lambda] + 2 Cov(\\hat \\theta, \\hat \\lambda) \\quad \\Longrightarrow \\quad \\beta \\quad = \\quad - \\frac{Cov(\\hat \\theta, \\hat \\lambda)}{Var[\\hat \\lambda]} \\\\\n",
    "\\hat \\theta - \\frac{Cov(\\hat \\theta, \\hat \\lambda)}{Var[\\hat \\lambda]} (\\hat \\lambda - \\lambda)\\\\\n",
    "Var[\\hat \\theta + \\beta (\\hat \\lambda - \\lambda)] &={}\n",
    "Var[\\hat \\theta] - \\frac{Cov(\\hat \\theta, \\hat \\lambda)}{Var[\\hat \\lambda]}^2 < Var[\\hat \\theta] \\\\\\\\\\textbf{Importance Sampling}\\\\\n",
    "Cov(\\hat \\theta, \\hat \\lambda) &={} Cov\\left(\\frac{1}{n}\\sum_i x_iw^*_i, \\frac{1}{n}\\sum_i w^*_i\\right) \\\\\n",
    "&={} \\sum_i Cov\\left( \\frac{1}{n} x_iw^*_i, \\frac{1}{n} w^*_i\\right) = \\frac{1}{n} Cov\\left(x_iw^*_i, w^*_i\\right) \\\\\n",
    "\\end{align*}\n",
    "$\n"
   ]
  },
  {
   "cell_type": "markdown",
   "id": "f949dbc3",
   "metadata": {},
   "source": [
    "# Class Coding Challenge\n",
    "\n",
    "This is\n",
    "- in person in approximately the final two hours of class\n",
    "- open notes and open internet (including AI chat bot support tools) **but you may not collaborate with classmates**\n",
    "\n",
    "This will \n",
    "\n",
    "- utilize the coding skills practiced in the prelecture homework\n",
    "- extend the considerations practiced in the prelecture homework\n",
    "- address topics from the prelecture reading and lectures itself\n",
    "\n",
    "and is cumulative in nature relative to all content of the course."
   ]
  }
 ],
 "metadata": {
  "kernelspec": {
   "display_name": "Python 3 (ipykernel)",
   "language": "python",
   "name": "python3"
  },
  "language_info": {
   "codemirror_mode": {
    "name": "ipython",
    "version": 3
   },
   "file_extension": ".py",
   "mimetype": "text/x-python",
   "name": "python",
   "nbconvert_exporter": "python",
   "pygments_lexer": "ipython3",
   "version": "3.11.4"
  }
 },
 "nbformat": 4,
 "nbformat_minor": 5
}
