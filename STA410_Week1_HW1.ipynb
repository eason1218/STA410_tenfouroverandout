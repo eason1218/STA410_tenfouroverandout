{
 "cells": [
  {
   "cell_type": "markdown",
   "id": "97715dcd",
   "metadata": {},
   "source": [
    "# STA410 Week 1 Homework (4 points)\n",
    "\n",
    "## Due 12 PM Jan 10 (before class starts)\n",
    "\n",
    "\n",
    "1. **Paired or individual assignment.** Work may be shared within pairs without restriction, but collaborations beyond the pairs must be limited to \"hints\" and may not share complete solutions.\n",
    "\n",
    "2. You are encouraged to adapt code you find available online into your notebook; however, if you do so please provide a link to the utilized resource. ***If failure to cite such references is identified and confirmed, your mark may be reduced.***  \n",
    "\n",
    "3. **Library imports are limited** to only libraries imported in the starter code and the [standard python modules](https://docs.python.org/3/py-modindex.html). Automated code tests that fail because of additional library imports will not recieve credit. Unless a problem instructs differently you may use any functions available from the Python stdlib and the libraries imported in the starter code.\n",
    "\n",
    "<details><summary><span style=\"color: blue; text-decoration: underline; cursor: pointer;\">Additional Details</span></summary>\n",
    "\n",
    "> **Do not delete, replace, or rearranged cells.** This erases `cell ids` upon which automated code tests are based. The \"Edit > Undo Delete Cells\" option in the notebook editor might be helpful; otherwise, redownload the notebook (so it has the correct required `cells ids`) and repopulate it with your answers (assuming you don't overwrite them when you redownload the notebook). ***You may add cells for scratch work*** but if required answers are not submitted through the provided cells where the answers are requested your answers may not be marked. Due to potential problems with `cell ids` **the only environments supported in this class are** [UofT JupyterHub](https://jupyter.utoronto.ca/hub/user-redirect/git-pull?repo=https://github.com/pointOfive/sta410hw0&branch=master), [Google Colab](https://colab.research.google.com/github/pointOfive/sta410hw0/blob/master/sta410hw0.ipynb), or [UofT JupyterLab](https://jupyter.utoronto.ca/hub/user-redirect/git-pull?repo=https://github.com/pointOfive/sta410hw0&branch=master&urlpath=/lab/tree/sta410hw0)\n",
    ">\n",
    "> **No jupyter shortcut commands** such as `! python script.py 10` or `%%timeit` may be included in the final submission as they will cause subsequent automated code tests to fail.\n",
    ">\n",
    "> **No cells may have any runtime errors** because this causes subsequent automated code tests to fail and you will not get marks for tests which fail because of previous runtime errors. ***Restart and re-run the cells in your notebook to ensure there are no runtime errors before submitting your work.***\n",
    "\n",
    "</details>\n"
   ]
  },
  {
   "cell_type": "code",
   "execution_count": null,
   "id": "aac48101",
   "metadata": {
    "deletable": false
   },
   "outputs": [],
   "source": [
    "import numpy as np # give the library a simpler standard alias\n",
    "import matplotlib.pyplot as plt # again loading with the standard shorthand name\n",
    "# the `.pyplot` means we're accessing the submodule `pyplot` of the `matplotlib` library"
   ]
  },
  {
   "cell_type": "markdown",
   "id": "469e0dc8",
   "metadata": {},
   "source": [
    "## Student and Contribution\n",
    "\n",
    "Are you working with a partner to complete this assignment?  \n",
    "- If not, assign  the value of `None` into the variable `Partner`.\n",
    "- If so, assign the name of the person you worked with into the variable `Partner`.\n",
    "    - Format the name as `\"<First Name> <Last Name>\"` as a `str` type, e.g., \"Scott Schwartz\"."
   ]
  },
  {
   "cell_type": "code",
   "execution_count": null,
   "id": "1ec2c365",
   "metadata": {},
   "outputs": [],
   "source": [
    "Partner = #None\n",
    "# This cell will produce a runtime error until you assign a value to this variable"
   ]
  },
  {
   "cell_type": "markdown",
   "id": "5308dd84",
   "metadata": {},
   "source": [
    "What was your contribution in completing the code for this assignments problems?  \n",
    "Assign one of the following into each of the `Conribution` variable below.\n",
    "\n",
    "- `\"I worked alone\"`\n",
    "- `\"I contributed more than my partner\"`\n",
    "- `\"My partner and I contributed equally\"`\n",
    "- `\"I contributed less than my partner\"`\n",
    "- `\"I did not contribute\"`"
   ]
  },
  {
   "cell_type": "code",
   "execution_count": null,
   "id": "091f1fd9",
   "metadata": {},
   "outputs": [],
   "source": [
    "Contribution = #\"I worked alone\"\n",
    "# This cell will produce a runtime error until you assign a value to this variable"
   ]
  },
  {
   "cell_type": "markdown",
   "id": "27034598",
   "metadata": {},
   "source": [
    "## Part 1\n",
    "\n",
    "Complete the function `binary_string(intput_integer, storage_bits=16)` which (when possible) returns a binary string representation of the supplied integer where the leftmost bit is the $\\pm$ sign bit and the rightmost bit is $2^0$.  Briefly review the comments for a quick refresher on Python, and delete them as you confirm understanding. Answer all related remaining questions as directed. \n",
    "\n",
    "> This activity is inspired by Figure 2.1 of Chapter 2.1 **The Fixed-Point Number System** on page 86 of [James E. Gentle's **Computational Statistics** textbook](https://librarysearch.library.utoronto.ca/permalink/01UTORONTO_INST/fedca1/cdi_springer_books_10_1007_978_0_387_98144_4).\n"
   ]
  },
  {
   "cell_type": "code",
   "execution_count": null,
   "id": "ef49479d",
   "metadata": {
    "deletable": false
   },
   "outputs": [],
   "source": [
    "# Python code doesn't run if it's not consistently indented as demonstrated below\n",
    "\n",
    "# This syntax defines the function `binary_string` with a required and optional (default valued) input\n",
    "# Input values (\"function arguments\") are accessed in the function as variables (\"function parameters\"),\n",
    "def binary_string(integer_input, storage_bits=16):\n",
    "    \n",
    "    \"\"\"    \n",
    "    integer_input     : (int) must be an integer which may be negative\n",
    "    storage_bits(=16) : (int) representational storage capacity in bits\n",
    "\n",
    "    returns (str) signed bit representation of `integer_input`\n",
    "    \"\"\"\n",
    "    # The docstrings above is a multiline string placed right after the `def` line\n",
    "    # Run `binary_string?` or `help(binary_string)` in a cell to see the docstring\n",
    "\n",
    "    # Python variables are dynamically (automatically) according to what they are\n",
    "    # - The type of `16` is `int` (but `16.` `16.0` are `float`s)\n",
    "    # - The type of `storage_bits` will `int` (if it's defaul value is used)\n",
    "    # - The type of `integer_input` should be `int` (if used correctly)\n",
    "    # - The type of `type(integer_input)` is `type (given by `type(type(integer_input))`)\n",
    "    # - The code `type(integer_input) != int` is of type `bool` (and is either  `True` or `False`)\n",
    "    if type(integer_input) != int:\n",
    "    # this is Python's `if` statement syntax, and notice again how the indenting is applied \n",
    "        raise TypeError(\"`integer_input` must be of type `int`!\")\n",
    "        # Running this line of code \"throws\" this \"runtime error\" and the code just stops \n",
    "        # The type of `TypeError(\"`integer_input` must be of type `int`\")` is `TypeError`\n",
    "\n",
    "    # In python everything is an \"object\" of some \"type\" and could be assigned to named \"variables\".\n",
    "        \n",
    "    # The functions `type` above and `abs` below are part of the Python stdlib (\"standard libary\")\n",
    "    # and are thus automatically available within any \"base\" Python programming envirionment.\n",
    "    # The \"import cell\" above uses `import` statements to access even more functionality.\n",
    "    # Some libraries such as `math` (and see https://docs.python.org/3/py-modindex.html) \n",
    "    # are \"standard\" in \"base\" Python and are automatically available without any installation.\n",
    "    # The `numpy` and `matplotlib` libraries in the \"import cell\" did require installation\n",
    "    # (e.g., using  `pip install <package>`) but this is already conveniently done UofT Jupyterhub.    \n",
    "    \n",
    "    # Python uses `**` rather than `^` for exponetiation; so, e.g., `2**3` is `2*2*2`\n",
    "    maximum_representable_integer = 2**(storage_bits) # FIX THIS: it's not correct\n",
    "    # Here's another `if` statement usage example\n",
    "    if abs(integer_input) > maximum_representable_integer:\n",
    "        raise ValueError(\"`integer_input` exceeds the representational capability of `storage_bits`!\")\n",
    "        # Here's another \"kind\" or runtime error \n",
    "    \n",
    "    # Interestingly, Python itself does not impose integer representational limitations\n",
    "    # https://stackoverflow.com/questions/7604966/maximum-and-minimum-values-for-ints \n",
    "    # but your program here will have representational limits according to `storage_bits`\n",
    "    # While having integers of \"unlimited\" size seems great, it also means efficient \n",
    "    # binary operations expecting fixed-sized integer representations will no longer apply\n",
    "    \n",
    "    # Python's `list` type will keep track of the bit representation of `integer_input`\n",
    "    bits = storage_bits*[0]\n",
    "    # Python \"overloads operators\", e.g., `*`, in sensible ways for different data types\n",
    "    # E.g., `k*<a list>` replicates the list `k` times and makes a new list from that\n",
    "    \n",
    "    if integer_input < 0:\n",
    "        # set the sign bit\n",
    "        bits[0] = 1 # the \"zero bit\" is our sign bit: don't change this\n",
    "        integer_input = abs(integer_input)\n",
    "\n",
    "    # Below is Python's for loop syntax which for default `storage_bits=16` iterates integer variable `i` \n",
    "    # from 1 to 15 (and not 16) because Python is 0-indexed so `range(16)` starts from 0 and goes to 15 \n",
    "    # (iterating 16 times) while `range(1, storage_bits)` starts at 1 and goes to 15.\n",
    "    # Any `iterable` may be \"iterated\" through `i` in Python, e.g.,\n",
    "    # - the built-in (i.e., part of stdlib) function `range` is the `generator` form of an `iterator` \n",
    "    # -`for b_i in storage_bits:` would \"iterate\" `b_i` over the elements of the `storage_bits` `list`\n",
    "    # Notably, `generator`s do not store their elements in memory, but create their elements on the fly\n",
    "    # functionally; whereas, `storage_bits` actually exists in memory and can be \"traversed\" in memory\n",
    "    # https://stackoverflow.com/questions/2776829/difference-between-pythons-generators-and-iterators\n",
    "    for i in range(1, storage_bits):\n",
    "        \n",
    "        # TODO: \n",
    "        # Check if each power of two is present in the bit representation of `integer_input`\n",
    "        # and turn on that bit in the representation `bits` if so; but, remember\n",
    "        # - the \"leftmost bit\" `bits[0]` is the \"sign bit\", \n",
    "        # - the \"rightmost bit\" `bits[-1]` corresponds to `2**0`,\n",
    "        # - and in general `bits[-j]` corresponds to `2**(j-1)` (except for `bits[0]`)\n",
    "        # where for an indexable object such as a `list` (and, interestingly, a `str` type)\n",
    "        # `bits[-1]` corresponds to the last element in the the object\n",
    "        # `bits[-2]` corresponds to the second to the last element in the object, etc.\n",
    "        \n",
    "        # This correspondance between `bits[-j]` and `2**(j-1)` is called  \"big-endian\" \n",
    "        # as opposed to \"little-endian\" (https://en.wikipedia.org/wiki/Endianness#Numbers) since\n",
    "        # - the most significant bits (highest powers of 2) are at the beginning of the array while\n",
    "        # - the least significant bits (lowest powers of 2) are at the end of the array; although,\n",
    "        \n",
    "        pass # fill in your \"bit encode an integer\" algorithm then remove this \"pass\" placeholder\n",
    "\n",
    "    # The `[str(bit) for bit in bits]` construction below is the pythonic \"list comprehension\".\n",
    "    # It iterates over the elements of list `bits`, assigning each in turn to `bit`, \n",
    "    # converting `bit` into the `str` type, and finally creating a new `list` containing the\n",
    "    # `str` transformed versions of `bit` in the same order of the original `bits` list.\n",
    "    return \"\".join([str(bit) for bit in bits]) \n",
    "    # The Python object `\"\"` (i.e., an empty string) is a `str` type object.\n",
    "    # Objects in python have their own functions (called methods):\n",
    "    #   the `join` method of the `\"\"` object is called from the `\"\"` object \n",
    "    #   by accessing it with the `.` operator and it accepts a list of strings\n",
    "    #   the elements of which it then concatenates together using itself (`\"\"`).\n",
    "\n",
    "    # If a function has no `return` statement it will return `None` (`type(None)` is `NoneType`)\n",
    "    # when it completes. Here the function will return a `str` which is an \"iterable\" like a `list`.\n",
    "            \n",
    "    # As noted python objects may be assigned variable names by which they are referenced; and, \n",
    "    # interestingly, a Python function is itself an object, e.g., `binary_string(<int>)` is \n",
    "    # shorthand for `binary_string.__call__(<int>)`.  To see the methods of objects, try, e.g.,\n",
    "    # `dir(binary_string)`, `dir(\"string\")`, `dir(16)`, or `storage_bits=16; dir(storage_bits)`\n",
    "    \n",
    "    # Since Python functions are (first-class) objects just like everything else, they can be\n",
    "    # passed as arguments into or returned as outputs from functions (as will now be considered).\n",
    "    "
   ]
  },
  {
   "cell_type": "markdown",
   "id": "60d56bed",
   "metadata": {},
   "source": [
    "## Hints\n",
    "\n",
    "The `binary_string` function above has the following problems:\n",
    "\n",
    "- This code is wrong and needs to be fixed: `maximum_representable_integer = 2**(storage_bits)`\n",
    "- You must add the code into the currently empty `for i in range(1, storage_bits):` loop in order to encode an an integer as a sequence of bits by \"turning on\" the appropriate bits in the bit representation of the integer.\n",
    "\n",
    "The code in **Part 2** below has some things to try if you need to figure out what the code is doing. Trying things out to figure out what they do is of course exactly how to get more comfortable with coding.  \n"
   ]
  },
  {
   "cell_type": "code",
   "execution_count": null,
   "id": "b00a0a02",
   "metadata": {},
   "outputs": [],
   "source": [
    "# Cell for scratch work\n",
    "\n",
    "# You are welcome to add as many new cells into this notebook as you would like.\n",
    "# Just don't have scratch work cells with runtime errors because \n",
    "# notebook cells are run sequentially for automated code testing.\n",
    "\n",
    "# Any cells included for scratch work that are no longer needed may be deleted so long as \n",
    "# - all the required functions are still defined and available when called\n",
    "# - no cells requiring variable assignments are deleted \n",
    "#    - as this causes their `cell ids` to be lost, but these `cell-ids` are required for automated code testing."
   ]
  },
  {
   "cell_type": "code",
   "execution_count": null,
   "id": "96cb722f",
   "metadata": {},
   "outputs": [],
   "source": [
    "# Cell for scratch work\n"
   ]
  },
  {
   "cell_type": "markdown",
   "id": "fd2280cf",
   "metadata": {},
   "source": [
    "## Part 2\n",
    "\n",
    "The following may be useful for completing **Part 1** and **Part 3**.\n"
   ]
  },
  {
   "cell_type": "code",
   "execution_count": null,
   "id": "7e713a30",
   "metadata": {},
   "outputs": [],
   "source": [
    "binary_string?"
   ]
  },
  {
   "cell_type": "code",
   "execution_count": null,
   "id": "9d45a9b2",
   "metadata": {},
   "outputs": [],
   "source": [
    "help(binary_string)"
   ]
  },
  {
   "cell_type": "code",
   "execution_count": null,
   "id": "60341c7f",
   "metadata": {},
   "outputs": [],
   "source": [
    "# try-except blocks offer a way to respond to runtime errors\n",
    "# in a sort of \"if statement\" manner as opposed to just having to stop the code\n",
    "try:\n",
    "    binary_string(.1)\n",
    "except TypeError as error:\n",
    "    print(error)"
   ]
  },
  {
   "cell_type": "code",
   "execution_count": null,
   "id": "2616cc73",
   "metadata": {},
   "outputs": [],
   "source": [
    "try:\n",
    "    binary_string(2**20)\n",
    "except ValueError as error:\n",
    "    print(error)    "
   ]
  },
  {
   "cell_type": "code",
   "execution_count": null,
   "id": "7df57c58",
   "metadata": {},
   "outputs": [],
   "source": [
    "[0,0]"
   ]
  },
  {
   "cell_type": "code",
   "execution_count": null,
   "id": "27e65f32",
   "metadata": {},
   "outputs": [],
   "source": [
    "16*[0]"
   ]
  },
  {
   "cell_type": "code",
   "execution_count": null,
   "id": "a239748e",
   "metadata": {},
   "outputs": [],
   "source": [
    "a_list = ['a','b','c']\n",
    "a_list"
   ]
  },
  {
   "cell_type": "code",
   "execution_count": null,
   "id": "787aaa8d",
   "metadata": {},
   "outputs": [],
   "source": [
    "a_list[0] = 'A'\n",
    "a_list"
   ]
  },
  {
   "cell_type": "code",
   "execution_count": null,
   "id": "5190847a",
   "metadata": {},
   "outputs": [],
   "source": [
    "a_list[1]"
   ]
  },
  {
   "cell_type": "code",
   "execution_count": null,
   "id": "152ab4ad",
   "metadata": {},
   "outputs": [],
   "source": [
    "a_list[2]"
   ]
  },
  {
   "cell_type": "code",
   "execution_count": null,
   "id": "362c8d98",
   "metadata": {},
   "outputs": [],
   "source": [
    "# negative indexes, e.g., `-1` in Python index \"backwards\"\n",
    "# starting from the end of the list and working towards the front\n",
    "a_list[-1]"
   ]
  },
  {
   "cell_type": "code",
   "execution_count": null,
   "id": "d913ad30",
   "metadata": {},
   "outputs": [],
   "source": [
    "a_list[-2]"
   ]
  },
  {
   "cell_type": "code",
   "execution_count": null,
   "id": "2ff2e020",
   "metadata": {},
   "outputs": [],
   "source": [
    "try:\n",
    "    a_list[3]\n",
    "except IndexError as error:\n",
    "    print(error)"
   ]
  },
  {
   "cell_type": "code",
   "execution_count": null,
   "id": "057491b9",
   "metadata": {},
   "outputs": [],
   "source": [
    "a_string = \"|\".join(['a','b','c'])\n",
    "a_string"
   ]
  },
  {
   "cell_type": "code",
   "execution_count": null,
   "id": "7f89e4d4",
   "metadata": {},
   "outputs": [],
   "source": [
    "\"a string is an indexable but not editable object in python\"[10]"
   ]
  },
  {
   "cell_type": "code",
   "execution_count": null,
   "id": "9329f08d",
   "metadata": {},
   "outputs": [],
   "source": [
    "try:\n",
    "    b_string = \"a string is an indexable but not editable object in python\"\n",
    "    b_string[10] = 'S'\n",
    "    # We therefore say that the `str` type is \"immutable\"\n",
    "    # unlike the `list` type which we then say is \"mutable\"\n",
    "except TypeError as error:\n",
    "    print(error)"
   ]
  },
  {
   "cell_type": "code",
   "execution_count": null,
   "id": "59d071e0",
   "metadata": {},
   "outputs": [],
   "source": [
    "# but you can always just make a new \"immutable\" object\n",
    "b_string[:10] + 'x' + b_string[11:]"
   ]
  },
  {
   "cell_type": "code",
   "execution_count": null,
   "id": "e4690b1b",
   "metadata": {},
   "outputs": [],
   "source": [
    "len(a_list)"
   ]
  },
  {
   "cell_type": "code",
   "execution_count": null,
   "id": "3ed86cf1",
   "metadata": {},
   "outputs": [],
   "source": [
    "len(a_string)"
   ]
  },
  {
   "cell_type": "code",
   "execution_count": null,
   "id": "278632a2",
   "metadata": {},
   "outputs": [],
   "source": [
    "len(b_string)"
   ]
  },
  {
   "cell_type": "code",
   "execution_count": null,
   "id": "cf534245",
   "metadata": {},
   "outputs": [],
   "source": [
    "# Here are a few more things, just for fun\n",
    "\n",
    "for x in a_list:\n",
    "    print(x)\n",
    "\n",
    "for i,x in enumerate(a_list):\n",
    "    print(i,x)\n",
    "\n",
    "for c in a_string:\n",
    "    print(c)\n",
    "\n",
    "for i,c in enumerate(a_string):\n",
    "    print(i,c)\n",
    "\n",
    "for c in b_string:\n",
    "    print(c)\n",
    "    \n",
    "for i,c in enumerate(b_string):\n",
    "    print(i,c)        "
   ]
  },
  {
   "cell_type": "code",
   "execution_count": null,
   "id": "642fc519",
   "metadata": {},
   "outputs": [],
   "source": [
    "# Cell for scratch work\n",
    "\n",
    "# You are welcome to add as many new cells into this notebook as you would like.\n",
    "# Just don't have scratch work cells with runtime errors because \n",
    "# notebook cells are run sequentially for automated code testing.\n",
    "\n",
    "# Any cells included for scratch work that are no longer needed may be deleted so long as \n",
    "# - all the required functions are still defined and available when called\n",
    "# - no cells requiring variable assignments are deleted \n",
    "#    - as this causes their `cell ids` to be lost, but these `cell-ids` are required for automated code testing."
   ]
  },
  {
   "cell_type": "code",
   "execution_count": null,
   "id": "cf7ef70d",
   "metadata": {},
   "outputs": [],
   "source": [
    "# Cell for scratch work\n"
   ]
  },
  {
   "cell_type": "markdown",
   "id": "417ee019",
   "metadata": {},
   "source": [
    "## Part 3\n",
    "\n",
    "The objectives of the **Part 1** activity were to (a) provide some coding practice, and (b) to introduce the notion of storage and memory that underlies computation and programming. The **Part 3** activity will now pursue both of these objectives at a deeper level. For (a) **Part 3** has you approach your programatic thinking from another perspective, while for (b) the **Important Notes** section below asks you to step back and evaluate how your actually implementation works from a storage and memory perspective.\n",
    "\n",
    "Google \"recursion\" then correct the search following the \"Did you mean:\" instructions until the nature of the advice becomes clear to you. Then implement the encoding algorithm above as a recursive function which passes updated versions of `storage_str` and `integer_input` and `k` incremented by `1` *to itself* until an appropriate \"stopping rule\" is reached at which point the final `storage_str` is returned.\n",
    "\n",
    "> This activity is inspired by the first two paragraphs of the **Data Structures** section of **Chapter 3 Algorithms and Programming** (on page 108),\n",
    "the third and second to last paragraphs (on page 120) of the **Recursion** section of **Chapter 3.3 Efficiency**, and the first paragraph (on page 134) of **Chapter 3.5 Programming** of [James E. Gentle's **Computational Statistics** textbook](https://librarysearch.library.utoronto.ca/permalink/01UTORONTO_INST/fedca1/cdi_springer_books_10_1007_978_0_387_98144_4).\n",
    "\n"
   ]
  },
  {
   "cell_type": "code",
   "execution_count": null,
   "id": "1703ba06",
   "metadata": {},
   "outputs": [],
   "source": [
    "def binary_string_recursive(integer_input, storage_str=\"0\"*16, k=1):\n",
    "\n",
    "    \"\"\"    \n",
    "    This function sets the `storage_str[k]` bit of the binary string representation\n",
    "    of `integer_input` to 1 or 0 and removes this bit contribution from the value \n",
    "    \n",
    "    integer_input        : (int) must be an integer which may be negative\n",
    "    storage_str(=\"0\"*16) : (str) representational storage as an `str` of bits\n",
    "    k                    : (int) current `storage_array` position under consideration \n",
    "\n",
    "    returns (func) binary_string_recursive(integer_input, storage_str, k=k+1)\n",
    "          or (str) `storage_str` if `k==len(storage_str)`\n",
    "    \"\"\"\n",
    "    \n",
    "    if k==1: # use this to make the problem easier \n",
    "\n",
    "        pass \n",
    "    \n",
    "    if k < len(storage_str):\n",
    "    \n",
    "        pass # recursively update `integer_input` and `storage_str` \n",
    "    \n",
    "    else: \n",
    "        return storage_str\n",
    "\n",
    "    return binary_string_recursive(integer_input, storage_str, k=k+1)\n",
    "        "
   ]
  },
  {
   "cell_type": "markdown",
   "id": "dc5e075f",
   "metadata": {},
   "source": [
    "## Important Notes\n",
    "\n",
    "Recursive functions can be very powerful when used in *divide and conquer* algorithms, but without [tail recursion](https://stackoverflow.com/questions/33923/what-is-tail-recursion) (via automated compiler optimization) recursive implementations they entails the overhead of retaining the state of function calls on the \"stack\" until they complete.\n",
    "\n",
    "For example, in the recursive implementation of $u_k = au_{k-1} \\text{ mod } m$ below, `f(a, m, n, x)` may not be \"popped\" from the \"stack\" until `[x] + f(a, m, n-1, x)` completes, which means `f(a, m, n, x)` can't be removed from memory until `f(a, m, n-1, x)` is removed from memory.\n",
    "\n",
    "```python\n",
    "def f(a, m, n, s):\n",
    "    if n is 0:\n",
    "        return []\n",
    "    else:\n",
    "        x = a*s % m\n",
    "        return [x] + f(a, m, n-1, x)\n",
    "```\n",
    "\n",
    "Because this recursion is in fact fully sequential it provides no *divide and conquer* affect(!); thus, despite the natural recusive specification of this problem the recursive implementation unnecessarily requries more computational resources without providing any recursive divide and conquer benefit compared with a direct iterative \"for loop\" implementation.\n",
    "\n",
    "> To confirm that your implementation is indeed recursive, the autotest will check for a  `RecursionError: maximum recursion depth exceeded in comparison` runtime error. Therefore do not increase the allowable maximum recursion stack depth. Anyway, such a change would in this case mask the unnecessarily wasteful computational overhead of storing function state spaces on the \"stack\" while waiting for the nested functions to complete, so it would be a very bad idea in this case...\n",
    "\n",
    "\n"
   ]
  },
  {
   "cell_type": "code",
   "execution_count": null,
   "id": "05a60b16",
   "metadata": {},
   "outputs": [],
   "source": [
    "# Cell for scratch work\n",
    "\n",
    "# You are welcome to add as many new cells into this notebook as you would like.\n",
    "# Just don't have scratch work cells with runtime errors because \n",
    "# notebook cells are run sequentially for automated code testing.\n",
    "\n",
    "# Any cells included for scratch work that are no longer needed may be deleted so long as \n",
    "# - all the required functions are still defined and available when called\n",
    "# - no cells requiring variable assignments are deleted \n",
    "#    - as this causes their `cell ids` to be lost, but these `cell-ids` are required for automated code testing."
   ]
  },
  {
   "cell_type": "code",
   "execution_count": null,
   "id": "0a55822d",
   "metadata": {},
   "outputs": [],
   "source": [
    "# Cell for scratch work\n"
   ]
  },
  {
   "cell_type": "markdown",
   "id": "10a91f64",
   "metadata": {},
   "source": [
    "### Your functions will be tested (2 points)\n"
   ]
  },
  {
   "cell_type": "markdown",
   "id": "2b123c4e",
   "metadata": {},
   "source": [
    "### Part 1 Questions (1 point)\n",
    "\n",
    "- p1q1: What is the bitstring corresponding to `2**5` through `2**2` of the number `13754` created by the `binary_string` function?\n",
    "- p1q2: What '[+start:+end]' indexing construction accesses this string `binary_string(13754)[start:end]`?\n",
    "- p1q3: What '[-start:-end]' indexing construction accesses this string `binary_string(13754)[start:end]`?\n",
    "- p1q4: What is the largest number that can be represented by `storage_bits=32`?"
   ]
  },
  {
   "cell_type": "code",
   "execution_count": null,
   "id": "d0abfecb",
   "metadata": {},
   "outputs": [],
   "source": [
    "p1q1 = 'replace with requested binary string'\n",
    "p1q2 = '[replace_with_positive_start_int:replace_with_positive_end_int]'\n",
    "p1q3 = '[replace_with_negative_start_int:replace_with_negative_end_int]'\n",
    "p1q4 = 0 # replace\n"
   ]
  },
  {
   "cell_type": "markdown",
   "id": "c367985e",
   "metadata": {},
   "source": [
    "### Part 3 Questions (1 point)\n",
    "\n",
    "- p3q1: Why is `a_string = a_string[:k]+'k'+a_string[(k+1):]` less preferable than `an_array[k]='k'` in this context and why?\n",
    "- p3q2: What is `list(range(10))` doing and why does `range` exist?\n",
    "- p3q3: What is the \"stack\" and how does it logically work relative to recursion?\n",
    "- p3q4: Which of the `binary_string` and `binary_string_recursive` algorithms is better and why?"
   ]
  },
  {
   "cell_type": "code",
   "execution_count": null,
   "id": "8157b8be",
   "metadata": {},
   "outputs": [],
   "source": [
    "# remove all but your answers so you have something like\n",
    "# 'immutable is better since arrays are better than strings'\n",
    "p3q1 = '<mutable is better|immutable is better> '+\\\n",
    "       '<to reduce memory overwritting|for operator overloading|since arrays are better than strings>'\n",
    "p3q2 = '<creating a generator|storing a list in memory|storing a generator in memory>'+' & '+\\\n",
    "       '<to reduce memory usage|to simplify code|to increase code speed|to allow `for` loops>'\n",
    "p3q3 = '<program memory|font end developer tools|back end developer tools|your code>'+' '+\\\n",
    "       '<accessed in a FIFO manner|accessed in a LIFO manner|access in a HEAP manner>'\n",
    "p3q4 = '<The `binary_string`|The `binary_string_recursive`|they might be equivalent>'+' '+\\\n",
    "       '<because recursion is bad|because everything is iteration anyway|depending on tail recursion>'\n"
   ]
  },
  {
   "cell_type": "code",
   "execution_count": null,
   "id": "cb0ae701",
   "metadata": {},
   "outputs": [],
   "source": []
  }
 ],
 "metadata": {
  "celltoolbar": "Edit Metadata",
  "kernelspec": {
   "display_name": "Python 3 (ipykernel)",
   "language": "python",
   "name": "python3"
  },
  "language_info": {
   "codemirror_mode": {
    "name": "ipython",
    "version": 3
   },
   "file_extension": ".py",
   "mimetype": "text/x-python",
   "name": "python",
   "nbconvert_exporter": "python",
   "pygments_lexer": "ipython3",
   "version": "3.11.4"
  }
 },
 "nbformat": 4,
 "nbformat_minor": 5
}
