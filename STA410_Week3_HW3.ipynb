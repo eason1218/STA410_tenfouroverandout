{
 "cells": [
  {
   "cell_type": "markdown",
   "id": "5b855cdb",
   "metadata": {},
   "source": [
    "# STA410 Week 3 Homework (4 points)\n",
    "\n",
    "## Due 12 PM Jan 24 (before class starts)\n",
    "\n",
    "\n",
    "1. **Paired or individual assignment.** Work may be shared within pairs without restriction, but collaborations beyond the pairs must be limited to \"hints\" and may not share complete solutions.\n",
    "\n",
    "\n",
    "2. You are encouraged to adapt code you find available online **(including using AI chat bot suppport tools)** into your notebook; however, if you do so please provide a link to the utilized resource. ***If you don't and multiple students have the same answer an academic integrity proceeding may be undertaken.***  \n",
    "\n",
    "\n",
    "3. **Library imports are limited** to only libraries imported in the starter code and the [standard python modules](https://docs.python.org/3/py-modindex.html). Automated code tests that fail because of additional library imports will not recieve credit. Unless a problem instructs differently you may use any functions available from the Python stdlib and the libraries imported in the starter code.\n",
    "\n",
    "\n",
    "<details><summary><span style=\"color: blue; text-decoration: underline; cursor: pointer;\">Additional Details</span></summary>\n",
    "\n",
    "> **Do not delete, replace, or rearranged cells.** This erases `cell ids` upon which automated code tests are based. The \"Edit > Undo Delete Cells\" option in the notebook editor might be helpful; otherwise, redownload the notebook (so it has the correct required `cells ids`) and repopulate it with your answers (assuming you don't overwrite them when you redownload the notebook). ***You may add cells for scratch work*** but if required answers are not submitted through the provided cells where the answers are requested your answers may not be marked. Due to potential problems with `cell ids` **the only environments supported in this class are** [UofT JupyterHub](https://datatools.utoronto.ca/) or [Google Colab](https://colab.research.google.com/)\n",
    ">\n",
    "> **No jupyter shortcut commands** such as `! python script.py 10` or `%%timeit` may be included in the final submission as they will cause subsequent automated code tests to fail.\n",
    ">\n",
    "> **No cells may have any runtime errors** because this causes subsequent automated code tests to fail and you will not get marks for tests which fail because of previous runtime errors. ***Restart and re-run the cells in your notebook to ensure there are no runtime errors before submitting your work.***\n",
    "\n",
    "</details>\n"
   ]
  },
  {
   "cell_type": "code",
   "execution_count": null,
   "id": "afb507f8",
   "metadata": {},
   "outputs": [],
   "source": [
    "# you may use any functions available from the following library imports\n",
    "import numpy as np\n",
    "import matplotlib.pyplot as plt\n",
    "from scipy import stats\n",
    "from scipy import integrate"
   ]
  },
  {
   "cell_type": "markdown",
   "id": "7ab8b38b",
   "metadata": {},
   "source": [
    "## Student and Contribution\n",
    "\n",
    "Are you working with a partner to complete this assignment?  \n",
    "- If not, assign  the value of `None` into the variable `Partner`.\n",
    "- If so, assign the name of the person you worked with into the variable `Partner`.\n",
    "    - Format the name as `\"<First Name> <Last Name>\"` as a `str` type, e.g., \"Scott Schwartz\"."
   ]
  },
  {
   "cell_type": "code",
   "execution_count": null,
   "id": "3ea9edc5",
   "metadata": {},
   "outputs": [],
   "source": [
    "Partner = #None\n",
    "# This cell will produce a runtime error until you assign a value to this variable"
   ]
  },
  {
   "cell_type": "markdown",
   "id": "00426528",
   "metadata": {},
   "source": [
    "What was your contribution in completing the code for this assignments problems?  \n",
    "Assign one of the following into each of the `Contribution` variable below.\n",
    "\n",
    "- `\"I worked alone\"`\n",
    "- `\"I contributed more than my partner\"`\n",
    "- `\"My partner and I contributed equally\"`\n",
    "- `\"I contributed less than my partner\"`\n",
    "- `\"I did not contribute\"`"
   ]
  },
  {
   "cell_type": "code",
   "execution_count": null,
   "id": "9803e4d0",
   "metadata": {},
   "outputs": [],
   "source": [
    "Contribution = #\"I worked alone\"\n",
    "# This cell will produce a runtime error until you assign a value to this variable"
   ]
  },
  {
   "cell_type": "markdown",
   "id": "c2eefbb8",
   "metadata": {},
   "source": [
    "## Part 1: Density Factorization\n",
    "\n",
    "Do we really want i.i.d. samples when not all samples are created equal?\n"
   ]
  },
  {
   "cell_type": "markdown",
   "id": "28dfdd32",
   "metadata": {},
   "source": [
    "$$\\huge \\int_0^1 25e^{-10u} du$$\n"
   ]
  },
  {
   "cell_type": "code",
   "execution_count": null,
   "id": "9310c87c",
   "metadata": {},
   "outputs": [],
   "source": [
    "u_grid = np.linspace(0,1,1001)\n",
    "f = lambda x: 25*np.exp(-10*x)\n",
    "plt.plot(u_grid, f(u_grid));\n",
    "integrate.quad(f,0,1)  # you know the drill"
   ]
  },
  {
   "cell_type": "code",
   "execution_count": null,
   "id": "0a4c925c",
   "metadata": {},
   "outputs": [],
   "source": [
    "p1q1 = \"Uniform sampling based Monte Carlo Inegration here will <A|B|C|D>\"\n",
    "# A: Require more than n=100000 for at least three digits of accuracy\n",
    "# B: Still be slower than integral approximation for three digits of accuracy\n",
    "# C: Sample many parts of the function that contribute little to the integral\n",
    "# D: All of the above\n",
    "\n",
    "p1q2 = \"<A|B|C|D*> above is false when the dimension is greater than 5 or so\"\n",
    "# D*: None of A, B, or C\n",
    "\n",
    "p1q3 = \"<A|B|C|D*> above is the fundamental problem when the dimension is even larger\"\n",
    "# D*': None of A, B, or C\n",
    "\n",
    "p1q4 = \"The law of the unconscious statistician is the unquestioning belief in <A|B|C|D>\"\n",
    "# A: Quadrature integral approximation\n",
    "# B: Monte Carlo integral estimation\n",
    "# C: E_X[f(X)] = E_Y=f(X)[Y]\n",
    "# D: Integral convergence\n"
   ]
  },
  {
   "cell_type": "code",
   "execution_count": null,
   "id": "330b85fe",
   "metadata": {},
   "outputs": [],
   "source": [
    "# Cell for scratch work\n",
    "\n",
    "# You are welcome to add as many new cells into this notebook as you would like.\n",
    "# Just don't have scratch work cells with runtime errors because \n",
    "# notebook cells are run sequentially for automated code testing.\n",
    "\n",
    "# Any cells included for scratch work that are no longer needed may be deleted so long as \n",
    "# - all the required functions are still defined and available when called\n",
    "# - no cells requiring variable assignments are deleted \n",
    "#    - as this causes their `cell ids` to be lost, but these `cell-ids` are required for automated code testing."
   ]
  },
  {
   "cell_type": "code",
   "execution_count": null,
   "id": "15d2ccb4",
   "metadata": {},
   "outputs": [],
   "source": [
    "# Cell for scratch work\n"
   ]
  },
  {
   "cell_type": "markdown",
   "id": "a77887c8",
   "metadata": {},
   "source": [
    "By [the law](https://math.stackexchange.com/questions/415196/proving-the-law-of-the-unconscious-statistician) of the [unconscious statistician](https://en.wikipedia.org/wiki/Law_of_the_unconscious_statistician)\n",
    "\n",
    "$$\n",
    "\\large\n",
    "\\begin{align*}\n",
    "E_{X\\sim \\text{uniform}(0, 1)}\\left[25e^{-10x}\\right] &={} \\int_0^1 5e^{-5x}\\times \\frac{\\int_0^1 5e^{-5x}dx}{\\color{blue}{\\int_0^1 5e^{-5x}dx}} \\color{blue}{\\times 5e^{-5x}} dx\\\\\n",
    "&={}  E_{\\color{blue}{X\\sim \\text{truncexpon}(5, 1)}}\\left[5e^{-5x}\\times \\int_0^1 5e^{-5x}dx\\right]\n",
    "\\end{align*}$$ \n"
   ]
  },
  {
   "cell_type": "code",
   "execution_count": null,
   "id": "807b26fb",
   "metadata": {},
   "outputs": [],
   "source": [
    "sqrt_f = lambda x: 5*np.exp(-5*x)\n",
    "c = stats.expon(scale=1/5).cdf(1)\n",
    "plt.plot(u_grid, c*sqrt_f(u_grid), 'k', linewidth=3, label=\"c*f(x)**0.5\")\n",
    "plt.plot(u_grid, (1/c)*sqrt_f(u_grid), \"--\", color='orange', linewidth=3, \n",
    "         label=\"(1/c)*f(x)**0.5\\nstats.truncexpon(b=5, scale=1/5)\")\n",
    "plt.plot(u_grid, f(u_grid), \":\", color=\"gray\", label=\"f(x)\")\n",
    "plt.legend();"
   ]
  },
  {
   "cell_type": "code",
   "execution_count": null,
   "id": "9ddf97d1",
   "metadata": {},
   "outputs": [],
   "source": [
    "n = 500\n",
    "u = stats.uniform().rvs(n)\n",
    "x = stats.truncexpon(b=5, scale=1/5).ppf(u)\n",
    "\n",
    "plt.boxplot(np.array([f(u),c*sqrt_f(x)]).T, vert=False);\n",
    "plt.scatter(f(u).mean(), 1)\n",
    "plt.scatter(c*sqrt_f(x).mean(), 2)\n",
    "plt.vlines(integrate.quad(f,0,1)[0], 0.5, 2.5, \"k\", linestyle=\":\")\n",
    "plt.title(\"Which distribution would you rather sample and make an estimate for?\");\n",
    "\n",
    "f(u).mean(), c*sqrt_f(x).mean()"
   ]
  },
  {
   "cell_type": "code",
   "execution_count": null,
   "id": "6d545009",
   "metadata": {},
   "outputs": [],
   "source": [
    "p1q5 = 'The \"y data\" being averaged in the initial untargetted Monte Carlo '+\\\n",
    "       \"integration estimation method is <u|x|f(u)|sqrt_f(x)|c*sqrt_f(x)>\"\n",
    "p1q6 = 'The \"y data\" being averaged in the revised targetted Monte Carlo '+\\\n",
    "       \"integration estimation method is <u|x|f(u)|sqrt_f(x)|c*sqrt_f(x)>\"\n",
    "p1q7 = 0.000000  # the value of c\n",
    "\n",
    "p1q8 = \"The variance of the estimator will be lower for the \"+\\\n",
    "       '<initial untargetted|revised targetted> method because the \"y data\" '+\\\n",
    "       \"it samples has <lower|higher> variance\"\n",
    "\n",
    "p1q9 = \"<A|B|C|D> below evaluate(s) a function in proportion to that function\"\n",
    "# A: The initial untargetted Monte Carlo method\n",
    "# B: The revised targetted Monte Carlo method\n",
    "# C: Both A and B\n",
    "# D: Neither A and B\n",
    "\n",
    "p1q10 = \"<A|B|C|D> above will bias against small valued function evalations\"\n",
    "# A: The initial untargetted Monte Carlo method\n",
    "# B: The revised targetted Monte Carlo method\n",
    "# C: Both A and B\n",
    "# D: Neither A and B\n",
    "\n",
    "p1q11 = \"Density q which samples evaluations of some function g \"+\\\n",
    "        \"proportionally to g has proportionality c = g(x)/q(x) = <A|B|C|D>\"\n",
    "# A: 1\n",
    "# B: \\int g(x) dx\n",
    "# C: 1/(\\int_0^1 5e^{-5x} dx)\n",
    "# D: stats.expon(scale=1/5).cdf(1)"
   ]
  },
  {
   "cell_type": "code",
   "execution_count": null,
   "id": "ad26cf9f",
   "metadata": {},
   "outputs": [],
   "source": [
    "# Cell for scratch work\n",
    "\n",
    "# You are welcome to add as many new cells into this notebook as you would like.\n",
    "# Just don't have scratch work cells with runtime errors because \n",
    "# notebook cells are run sequentially for automated code testing.\n",
    "\n",
    "# Any cells included for scratch work that are no longer needed may be deleted so long as \n",
    "# - all the required functions are still defined and available when called\n",
    "# - no cells requiring variable assignments are deleted \n",
    "#    - as this causes their `cell ids` to be lost, but these `cell-ids` are required for automated code testing."
   ]
  },
  {
   "cell_type": "code",
   "execution_count": null,
   "id": "0da9220a",
   "metadata": {},
   "outputs": [],
   "source": [
    "# Cell for scratch work\n"
   ]
  },
  {
   "cell_type": "markdown",
   "id": "067078ed",
   "metadata": {},
   "source": [
    "## Part 2: Targetting\n",
    "\n",
    "$$\\Huge \\int_0^1 \\frac{25e^{-10x}}{p(x)} p(x) dx$$"
   ]
  },
  {
   "cell_type": "code",
   "execution_count": null,
   "id": "3dfdb570",
   "metadata": {},
   "outputs": [],
   "source": [
    "f_inv = lambda y: -np.log(y/25)/10\n",
    "coin_p = 0.2\n",
    "λ = 10\n",
    "p_pdf = lambda x,p: p*stats.triang(c=1/2, scale=2*f_inv(2.5)).pdf(x) +\\\n",
    "                    (1-p)*stats.truncexpon(b=λ, scale=1/λ).pdf(x)\n",
    "\n",
    "def p_rvs(n, p=0.5):\n",
    "    coin = stats.bernoulli(p=p).rvs(n)\n",
    "    return stats.triang(c=1/2, scale=2*f_inv(2.5)).rvs(n)*coin + \\\n",
    "           stats.truncexpon(b=λ, scale=1/λ).rvs(n)*(1-coin)\n",
    "\n",
    "plt.plot(u_grid, c*sqrt_f(u_grid), 'k', linewidth=3, label=\"c*f(x)**0.5\")\n",
    "plt.plot(u_grid, (1/c)*sqrt_f(u_grid),\n",
    "         label=\"(1/c)*f(x)**0.5\\nstats.truncexpon(b=5, scale=1/5)\")\n",
    "plt.plot(u_grid, f(u_grid), \":\", color=\"gray\", label=\"f(x)\")\n",
    "plt.plot(u_grid, p_pdf(u_grid, coin_p),  label=\"p(x)\")\n",
    "plt.ylim([0,λ])\n",
    "plt.legend();"
   ]
  },
  {
   "cell_type": "code",
   "execution_count": null,
   "id": "0aff3d26",
   "metadata": {},
   "outputs": [],
   "source": [
    "p2q1 = 0.0000000000  # value of u that makes f(u) equal to the area under f from 0 to 1\n",
    "p2q2 = \"The p(x) 'pointed proposal' samples x in the area near the value \"+\\\n",
    "       \"of u where f(x) ≈ f(u) which is equal to the area under f from 0 to 1 \"+\\\n",
    "       \"<more|less> than `stats.truncexpon(b=5, scale=1/5)`\"\n",
    "\n",
    "p2q3 = \"The value of the area under f is <over|under> represented in the \"+\\\n",
    "       \"samples averaged by the Monte Carlo method based on p(x)\"\n",
    "\n",
    "p2q4 = \"The estimation accuracy from least to most accurate method is based on \"+\\\n",
    "       \"p(x) -> Uniform -> `stats.truncexpon(b=5, scale=1/5)`\" \n",
    "       # order these correctly in the given format\n",
    "    \n",
    "p2q5 = 'The \"y data\" prouced by it\\'s corresponding method \"+\\\n",
    "       \"from the the largest to the smallest variance is '+\\\n",
    "       \"f(x) -> f(x)/p(x) -> `stats.expon(scale=1/5).rvs`\"\n",
    "       # order these correctly in the given format\n",
    "\n",
    "p2q6 = \"The shape of the f(x)/p(x) function most closely resembles a \"+\\\n",
    "       '<\"step\"|\"bump\"|\"upside down V\"|\"M\"> shape'\n",
    "\n",
    "p2q7 = \"Putting the bump in p(x) \"+\\\n",
    "       \"<is|is not> the key to reduced Monte Carlo estimation variance\"\n"
   ]
  },
  {
   "cell_type": "code",
   "execution_count": null,
   "id": "147bf994",
   "metadata": {},
   "outputs": [],
   "source": [
    "n = 500\n",
    "u = stats.uniform().rvs(n)\n",
    "x = stats.truncexpon(b=5, scale=1/5).ppf(u)\n",
    "c = stats.expon(scale=1/5).cdf(1)\n",
    "x_ = p_rvs(n, coin_p)\n",
    "\n",
    "fig,ax = plt.subplots(1,2, figsize=(12,4))\n",
    "ax[0].boxplot(np.array([f(u), c*sqrt_f(x), \n",
    "                        f(x_)/p_pdf(x_,coin_p)]).T, vert=False);\n",
    "ax[0].scatter(c*sqrt_f(x).mean(), 2, s=50, \n",
    "              label=\"%.3f average of c*f(x)**0.5\\nx~stats.truncexpon(b=5, scale=1/5)\"%(c*sqrt_f(x).mean()))\n",
    "ax[0].scatter((f(x_)/p_pdf(x_,coin_p)).mean(), 3, s=50, \n",
    "              label=\"%.3f average of f(x)/p(x) x~p(x)\"%(f(x_)/p_pdf(x_,coin_p)).mean())\n",
    "ax[0].scatter(f(u).mean(), 1, s=50, \n",
    "              label=\"%.3f average of f(u) u~Uniform\"%f(u).mean())\n",
    "ax[0].vlines(integrate.quad(f,0,1)[0], 0.5, 3.5, \"k\", linestyle=\":\")\n",
    "ax[0].set_title(\"Which distribution would you rather...\")\n",
    "ax[0].legend()\n",
    "\n",
    "ax[1].hist(c*sqrt_f(x), density=True, alpha=0.5, \n",
    "           label=\"c*f(x)**0.5\\nx~stats.truncexpon(b=5, scale=1/5)\")\n",
    "ax[1].hist(f(x_)/p_pdf(x_,coin_p), density=True, alpha=0.5, \n",
    "           label=\"f(x)/p(x) x~p(x)\")\n",
    "ax[1].set_title(\"...sample and make an estimate for?\")\n",
    "ax[1].legend();"
   ]
  },
  {
   "cell_type": "code",
   "execution_count": null,
   "id": "e7a5f51d",
   "metadata": {},
   "outputs": [],
   "source": [
    "# Cell for scratch work\n",
    "\n",
    "# You are welcome to add as many new cells into this notebook as you would like.\n",
    "# Just don't have scratch work cells with runtime errors because \n",
    "# notebook cells are run sequentially for automated code testing.\n",
    "\n",
    "# Any cells included for scratch work that are no longer needed may be deleted so long as \n",
    "# - all the required functions are still defined and available when called\n",
    "# - no cells requiring variable assignments are deleted \n",
    "#    - as this causes their `cell ids` to be lost, but these `cell-ids` are required for automated code testing."
   ]
  },
  {
   "cell_type": "code",
   "execution_count": null,
   "id": "23b1736b",
   "metadata": {},
   "outputs": [],
   "source": [
    "# Cell for scratch work\n"
   ]
  },
  {
   "cell_type": "markdown",
   "id": "7f699ec9",
   "metadata": {},
   "source": [
    "## Part 2: Targetting?\n",
    "\n",
    "$$\\huge \\int_0^1 \\frac{25e^{-10x}}{q(x)} q(x) dx \\quad \\textrm{ and } \\quad q(x) \\propto \\overset{25e^{-10x}}{f(x)}$$"
   ]
  },
  {
   "cell_type": "code",
   "execution_count": null,
   "id": "a694f3d4",
   "metadata": {},
   "outputs": [],
   "source": [
    "fig,ax = plt.subplots(1,2, figsize=(12,4))\n",
    "\n",
    "q = stats.truncexpon(b=10, scale=1/10)\n",
    "q_bad = stats.beta(2,2)\n",
    "\n",
    "ax[0].plot(u_grid, c*sqrt_f(u_grid), label=\"c*f(x)**0.5\")\n",
    "ax[0].plot(u_grid, q.pdf(u_grid), label=\"q(x)∝f(x)\")\n",
    "ax[0].plot(u_grid, f(u_grid), label=\"f(x)\")\n",
    "ax[0].plot(u_grid, q_bad.pdf(u_grid), ':', label=\"bad q(x)\")\n",
    "ax[0].set_title(\"Sample different distributions of x_i always collecting y_i=f(x_i)\")\n",
    "ax[0].legend()\n",
    "\n",
    "n = 500\n",
    "u = stats.uniform().rvs(n)\n",
    "x = stats.truncexpon(b=5, scale=1/5).ppf(u)\n",
    "x_ = q.ppf(u)\n",
    "x_x = q_bad.ppf(u)\n",
    "\n",
    "y1 = f(x_x)/q_bad.pdf(x_x)\n",
    "y2 = f(u)\n",
    "y3 = c*sqrt_f(x)\n",
    "y4 = f(x_)/q.pdf(x_)\n",
    "\n",
    "ax[1].boxplot(np.array([y1, y2, y3, y4]).T, vert=False);\n",
    "ax[1].plot(y3.mean(), 3, '.', markersize=20, label=\"%.3f average of c*f(x)**0.5\\nx~stats.truncexpon(b=5, scale=1/5)\"%y4.mean())\n",
    "ax[1].plot(y4.mean(), 4, '.', markersize=20, label=\"%.3f average of f(x)/q(x) x~q(x)\"%y4.mean())\n",
    "ax[1].plot(y2.mean(), 2, '.', markersize=20, label=\"%.3f average of f(u) u~Uniform\"%y2.mean())\n",
    "ax[1].plot(y1.mean(), 1, '.', markersize=20, label=\"%.3f average of f(x)/bad_q(x) x~bad_q(x)\"%y1.mean())\n",
    "ax[1].vlines(integrate.quad(f, 0, 1)[0], 0.5, 4.5, \"k\", linestyle=\":\")\n",
    "ax[1].set_title(\"Which distribution would you rather\\nsample and make an estimate for?\");\n",
    "ax[1].legend()\n",
    "\n",
    "cutoff = y1.max()  # some other value?\n",
    "ax[1].set_xlim([plt.xlim()[0], cutoff]);"
   ]
  },
  {
   "cell_type": "code",
   "execution_count": null,
   "id": "002a1344",
   "metadata": {},
   "outputs": [],
   "source": [
    "# For the following questions assume that \\int g(x) dx exists but is unknown\n",
    "p2q8 = \"The range of the evaluations of g(x) for a sample x drawn \"+\\\n",
    "       \"prortionally to g itself will results in a range of values \"+\\\n",
    "       \"<greater than|less than|about the same as> the range of g itself\"\n",
    "p2q9 = \"The evaluations of g(x)/q(x) when sampled from q proportional \"+\\\n",
    "       \"to g have are equal to <1|g(x)|q(x)|q(x)/g(x)|\\int g(x) dx>\"\n"
   ]
  },
  {
   "cell_type": "code",
   "execution_count": null,
   "id": "273e35c7",
   "metadata": {},
   "outputs": [],
   "source": [
    "# Cell for scratch work\n",
    "\n",
    "# You are welcome to add as many new cells into this notebook as you would like.\n",
    "# Just don't have scratch work cells with runtime errors because \n",
    "# notebook cells are run sequentially for automated code testing.\n",
    "\n",
    "# Any cells included for scratch work that are no longer needed may be deleted so long as \n",
    "# - all the required functions are still defined and available when called\n",
    "# - no cells requiring variable assignments are deleted \n",
    "#    - as this causes their `cell ids` to be lost, but these `cell-ids` are required for automated code testing."
   ]
  },
  {
   "cell_type": "code",
   "execution_count": null,
   "id": "87d0567e",
   "metadata": {},
   "outputs": [],
   "source": [
    "# Cell for scratch work\n"
   ]
  },
  {
   "cell_type": "code",
   "execution_count": null,
   "id": "c5aef3ac",
   "metadata": {},
   "outputs": [],
   "source": []
  },
  {
   "cell_type": "code",
   "execution_count": null,
   "id": "5af7171e",
   "metadata": {},
   "outputs": [],
   "source": []
  }
 ],
 "metadata": {
  "kernelspec": {
   "display_name": "Python 3 (ipykernel)",
   "language": "python",
   "name": "python3"
  },
  "language_info": {
   "codemirror_mode": {
    "name": "ipython",
    "version": 3
   },
   "file_extension": ".py",
   "mimetype": "text/x-python",
   "name": "python",
   "nbconvert_exporter": "python",
   "pygments_lexer": "ipython3",
   "version": "3.11.4"
  }
 },
 "nbformat": 4,
 "nbformat_minor": 5
}
